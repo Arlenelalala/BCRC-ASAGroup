{
 "cells": [
  {
   "cell_type": "code",
   "execution_count": 2,
   "metadata": {},
   "outputs": [
    {
     "name": "stdout",
     "output_type": "stream",
     "text": [
      "2.0.0-alpha0\n"
     ]
    }
   ],
   "source": [
    "import tensorflow as tf\n",
    "import tensorflow.keras as keras\n",
    "import tensorflow.keras.layers as layers\n",
    "print(tf.__version__)"
   ]
  },
  {
   "cell_type": "markdown",
   "metadata": {},
   "source": [
    "## 1.回归任务"
   ]
  },
  {
   "cell_type": "code",
   "execution_count": 3,
   "metadata": {},
   "outputs": [
    {
     "name": "stdout",
     "output_type": "stream",
     "text": [
      "Downloading data from https://storage.googleapis.com/tensorflow/tf-keras-datasets/boston_housing.npz\n",
      "57344/57026 [==============================] - 0s 2us/step\n",
      "(404, 13)   (404,)\n",
      "(102, 13)   (102,)\n"
     ]
    }
   ],
   "source": [
    "# 导入数据\n",
    "(x_train, y_train) ,(x_test, y_test) = keras.datasets.boston_housing.load_data()\n",
    "print(x_train.shape, ' ',y_train.shape)\n",
    "print(x_test.shape, ' ', y_test.shape)"
   ]
  },
  {
   "cell_type": "code",
   "execution_count": 5,
   "metadata": {},
   "outputs": [
    {
     "name": "stdout",
     "output_type": "stream",
     "text": [
      "Model: \"sequential_1\"\n",
      "_________________________________________________________________\n",
      "Layer (type)                 Output Shape              Param #   \n",
      "=================================================================\n",
      "dense_3 (Dense)              (None, 32)                448       \n",
      "_________________________________________________________________\n",
      "dense_4 (Dense)              (None, 32)                1056      \n",
      "_________________________________________________________________\n",
      "dense_5 (Dense)              (None, 32)                1056      \n",
      "_________________________________________________________________\n",
      "dense_6 (Dense)              (None, 1)                 33        \n",
      "=================================================================\n",
      "Total params: 2,593\n",
      "Trainable params: 2,593\n",
      "Non-trainable params: 0\n",
      "_________________________________________________________________\n"
     ]
    }
   ],
   "source": [
    "# 构建模型\n",
    "\n",
    "model = keras.Sequential([\n",
    "    layers.Dense(32, activation = 'sigmoid', input_shape=(13,)),\n",
    "    layers.Dense(32, activation ='sigmoid'),\n",
    "    layers.Dense(32, activation ='sigmoid'),\n",
    "    layers.Dense(1)\n",
    "])\n",
    "\n",
    "# 配置模型\n",
    "model.compile(optimizer=keras.optimizers.SGD(0.1),\n",
    "             loss = 'mean_squared_error', \n",
    "             metrics= ['mse']\n",
    "             )\n",
    "model.summary()"
   ]
  },
  {
   "cell_type": "code",
   "execution_count": 6,
   "metadata": {},
   "outputs": [
    {
     "name": "stdout",
     "output_type": "stream",
     "text": [
      "Train on 363 samples, validate on 41 samples\n",
      "Epoch 1/50\n",
      "363/363 [==============================] - 0s 495us/sample - loss: 262.6778 - mse: 262.6779 - val_loss: 76.2764 - val_mse: 76.2764\n",
      "Epoch 2/50\n",
      "363/363 [==============================] - 0s 35us/sample - loss: 93.3169 - mse: 93.3169 - val_loss: 42.7307 - val_mse: 42.7307\n",
      "Epoch 3/50\n",
      "363/363 [==============================] - 0s 31us/sample - loss: 92.1659 - mse: 92.1659 - val_loss: 62.2253 - val_mse: 62.2253\n",
      "Epoch 4/50\n",
      "363/363 [==============================] - 0s 79us/sample - loss: 94.6992 - mse: 94.6992 - val_loss: 42.8632 - val_mse: 42.8632\n",
      "Epoch 5/50\n",
      "363/363 [==============================] - 0s 103us/sample - loss: 89.5758 - mse: 89.5758 - val_loss: 57.6620 - val_mse: 57.6620\n",
      "Epoch 6/50\n",
      "363/363 [==============================] - 0s 45us/sample - loss: 90.5401 - mse: 90.5401 - val_loss: 47.5861 - val_mse: 47.5861\n",
      "Epoch 7/50\n",
      "363/363 [==============================] - 0s 66us/sample - loss: 90.5578 - mse: 90.5578 - val_loss: 48.5053 - val_mse: 48.5053\n",
      "Epoch 8/50\n",
      "363/363 [==============================] - 0s 45us/sample - loss: 91.2962 - mse: 91.2962 - val_loss: 44.9976 - val_mse: 44.9976\n",
      "Epoch 9/50\n",
      "363/363 [==============================] - 0s 44us/sample - loss: 91.8164 - mse: 91.8164 - val_loss: 56.6754 - val_mse: 56.6754\n",
      "Epoch 10/50\n",
      "363/363 [==============================] - 0s 92us/sample - loss: 90.7826 - mse: 90.7826 - val_loss: 45.2355 - val_mse: 45.2355\n",
      "Epoch 11/50\n",
      "363/363 [==============================] - 0s 53us/sample - loss: 90.0355 - mse: 90.0355 - val_loss: 45.5211 - val_mse: 45.5211\n",
      "Epoch 12/50\n",
      "363/363 [==============================] - 0s 63us/sample - loss: 98.4362 - mse: 98.4362 - val_loss: 46.9208 - val_mse: 46.9208\n",
      "Epoch 13/50\n",
      "363/363 [==============================] - 0s 32us/sample - loss: 94.8513 - mse: 94.8513 - val_loss: 49.3192 - val_mse: 49.3192\n",
      "Epoch 14/50\n",
      "363/363 [==============================] - 0s 78us/sample - loss: 95.1880 - mse: 95.1880 - val_loss: 43.0357 - val_mse: 43.0357\n",
      "Epoch 15/50\n",
      "363/363 [==============================] - 0s 86us/sample - loss: 90.3087 - mse: 90.3087 - val_loss: 47.9288 - val_mse: 47.9288\n",
      "Epoch 16/50\n",
      "363/363 [==============================] - 0s 66us/sample - loss: 90.9406 - mse: 90.9406 - val_loss: 59.6078 - val_mse: 59.6078\n",
      "Epoch 17/50\n",
      "363/363 [==============================] - 0s 50us/sample - loss: 94.1687 - mse: 94.1687 - val_loss: 56.7053 - val_mse: 56.7053\n",
      "Epoch 18/50\n",
      "363/363 [==============================] - 0s 68us/sample - loss: 96.3974 - mse: 96.3974 - val_loss: 43.9668 - val_mse: 43.9668\n",
      "Epoch 19/50\n",
      "363/363 [==============================] - 0s 82us/sample - loss: 92.4521 - mse: 92.4521 - val_loss: 43.5153 - val_mse: 43.5153\n",
      "Epoch 20/50\n",
      "363/363 [==============================] - 0s 71us/sample - loss: 92.4280 - mse: 92.4280 - val_loss: 42.7289 - val_mse: 42.7289\n",
      "Epoch 21/50\n",
      "363/363 [==============================] - 0s 34us/sample - loss: 90.9691 - mse: 90.9691 - val_loss: 42.6582 - val_mse: 42.6582\n",
      "Epoch 22/50\n",
      "363/363 [==============================] - 0s 32us/sample - loss: 92.5039 - mse: 92.5039 - val_loss: 43.3073 - val_mse: 43.3073\n",
      "Epoch 23/50\n",
      "363/363 [==============================] - 0s 35us/sample - loss: 89.1025 - mse: 89.1026 - val_loss: 39.9018 - val_mse: 39.9018\n",
      "Epoch 24/50\n",
      "363/363 [==============================] - 0s 80us/sample - loss: 89.1318 - mse: 89.1318 - val_loss: 41.1090 - val_mse: 41.1090\n",
      "Epoch 25/50\n",
      "363/363 [==============================] - 0s 34us/sample - loss: 93.1415 - mse: 93.1415 - val_loss: 42.5019 - val_mse: 42.5019\n",
      "Epoch 26/50\n",
      "363/363 [==============================] - 0s 36us/sample - loss: 94.7899 - mse: 94.7899 - val_loss: 83.0942 - val_mse: 83.0942\n",
      "Epoch 27/50\n",
      "363/363 [==============================] - 0s 50us/sample - loss: 91.6867 - mse: 91.6867 - val_loss: 45.3791 - val_mse: 45.3791\n",
      "Epoch 28/50\n",
      "363/363 [==============================] - 0s 46us/sample - loss: 90.4633 - mse: 90.4633 - val_loss: 42.7493 - val_mse: 42.7493\n",
      "Epoch 29/50\n",
      "363/363 [==============================] - 0s 30us/sample - loss: 90.8442 - mse: 90.8442 - val_loss: 58.6342 - val_mse: 58.6342\n",
      "Epoch 30/50\n",
      "363/363 [==============================] - 0s 47us/sample - loss: 91.8460 - mse: 91.8460 - val_loss: 61.9763 - val_mse: 61.9763\n",
      "Epoch 31/50\n",
      "363/363 [==============================] - 0s 44us/sample - loss: 91.0114 - mse: 91.0114 - val_loss: 44.4560 - val_mse: 44.4560\n",
      "Epoch 32/50\n",
      "363/363 [==============================] - 0s 73us/sample - loss: 90.5969 - mse: 90.5969 - val_loss: 48.2193 - val_mse: 48.2193\n",
      "Epoch 33/50\n",
      "363/363 [==============================] - 0s 55us/sample - loss: 90.2238 - mse: 90.2238 - val_loss: 86.6493 - val_mse: 86.6493\n",
      "Epoch 34/50\n",
      "363/363 [==============================] - 0s 44us/sample - loss: 94.9644 - mse: 94.9644 - val_loss: 55.4428 - val_mse: 55.4428\n",
      "Epoch 35/50\n",
      "363/363 [==============================] - 0s 60us/sample - loss: 92.1667 - mse: 92.1667 - val_loss: 63.9954 - val_mse: 63.9954\n",
      "Epoch 36/50\n",
      "363/363 [==============================] - 0s 46us/sample - loss: 90.6710 - mse: 90.6710 - val_loss: 44.3117 - val_mse: 44.3117\n",
      "Epoch 37/50\n",
      "363/363 [==============================] - 0s 33us/sample - loss: 90.4503 - mse: 90.4503 - val_loss: 43.9396 - val_mse: 43.9396\n",
      "Epoch 38/50\n",
      "363/363 [==============================] - 0s 42us/sample - loss: 90.6932 - mse: 90.6932 - val_loss: 50.9772 - val_mse: 50.9772\n",
      "Epoch 39/50\n",
      "363/363 [==============================] - 0s 27us/sample - loss: 89.0166 - mse: 89.0166 - val_loss: 50.8808 - val_mse: 50.8808\n",
      "Epoch 40/50\n",
      "363/363 [==============================] - 0s 51us/sample - loss: 95.5358 - mse: 95.5358 - val_loss: 42.7587 - val_mse: 42.7587\n",
      "Epoch 41/50\n",
      "363/363 [==============================] - 0s 32us/sample - loss: 89.9516 - mse: 89.9516 - val_loss: 43.1662 - val_mse: 43.1662\n",
      "Epoch 42/50\n",
      "363/363 [==============================] - 0s 61us/sample - loss: 90.9359 - mse: 90.9359 - val_loss: 44.1612 - val_mse: 44.1612\n",
      "Epoch 43/50\n",
      "363/363 [==============================] - 0s 55us/sample - loss: 90.5471 - mse: 90.5471 - val_loss: 43.0215 - val_mse: 43.0215\n",
      "Epoch 44/50\n",
      "363/363 [==============================] - 0s 35us/sample - loss: 90.2129 - mse: 90.2129 - val_loss: 42.8067 - val_mse: 42.8067\n",
      "Epoch 45/50\n",
      "363/363 [==============================] - 0s 34us/sample - loss: 91.9643 - mse: 91.9643 - val_loss: 52.3239 - val_mse: 52.3239\n",
      "Epoch 46/50\n",
      "363/363 [==============================] - 0s 45us/sample - loss: 95.4429 - mse: 95.4429 - val_loss: 46.6696 - val_mse: 46.6696\n",
      "Epoch 47/50\n",
      "363/363 [==============================] - 0s 32us/sample - loss: 93.6914 - mse: 93.6914 - val_loss: 42.8266 - val_mse: 42.8266\n",
      "Epoch 48/50\n",
      "363/363 [==============================] - 0s 57us/sample - loss: 90.1721 - mse: 90.1721 - val_loss: 44.8901 - val_mse: 44.8901\n",
      "Epoch 49/50\n",
      "363/363 [==============================] - 0s 51us/sample - loss: 95.2599 - mse: 95.2599 - val_loss: 50.8667 - val_mse: 50.8667\n",
      "Epoch 50/50\n",
      "363/363 [==============================] - 0s 25us/sample - loss: 90.3977 - mse: 90.3977 - val_loss: 42.8165 - val_mse: 42.8165\n"
     ]
    },
    {
     "data": {
      "text/plain": [
       "<tensorflow.python.keras.callbacks.History at 0x7fdab848ff60>"
      ]
     },
     "execution_count": 6,
     "metadata": {},
     "output_type": "execute_result"
    }
   ],
   "source": [
    "# 训练\n",
    "model.fit(x_train, y_train, batch_size=50, epochs=50, validation_split=0.1, verbose=1)"
   ]
  },
  {
   "cell_type": "code",
   "execution_count": 11,
   "metadata": {},
   "outputs": [
    {
     "name": "stdout",
     "output_type": "stream",
     "text": [
      "102/102 [==============================] - 0s 176us/sample - loss: 87.1914 - mse: 87.1914\n"
     ]
    }
   ],
   "source": [
    "result = model.evaluate(x_test, y_test)"
   ]
  },
  {
   "cell_type": "code",
   "execution_count": 13,
   "metadata": {},
   "outputs": [
    {
     "name": "stdout",
     "output_type": "stream",
     "text": [
      "['loss', 'mse']\n",
      "[87.19138081868489, 87.191376]\n"
     ]
    }
   ],
   "source": [
    "print(model.metrics_names)\n",
    "print(result)"
   ]
  },
  {
   "cell_type": "markdown",
   "metadata": {},
   "source": [
    "## 2. 分类任务"
   ]
  },
  {
   "cell_type": "code",
   "execution_count": 15,
   "metadata": {},
   "outputs": [
    {
     "name": "stdout",
     "output_type": "stream",
     "text": [
      "(398, 30)   (398,)\n",
      "(171, 30)   (171,)\n"
     ]
    }
   ],
   "source": [
    "from sklearn.datasets import load_breast_cancer\n",
    "from sklearn.model_selection import train_test_split\n",
    "\n",
    "whole_data = load_breast_cancer()\n",
    "x_data = whole_data.data\n",
    "y_data = whole_data.target\n",
    "\n",
    "x_train, x_test, y_train, y_test = train_test_split(x_data, y_data, test_size=0.3, random_state=7)\n",
    "\n",
    "print(x_train.shape, ' ', y_train.shape)\n",
    "print(x_test.shape, ' ', y_test.shape)"
   ]
  },
  {
   "cell_type": "code",
   "execution_count": 16,
   "metadata": {},
   "outputs": [
    {
     "name": "stdout",
     "output_type": "stream",
     "text": [
      "Model: \"sequential_2\"\n",
      "_________________________________________________________________\n",
      "Layer (type)                 Output Shape              Param #   \n",
      "=================================================================\n",
      "dense_7 (Dense)              (None, 32)                992       \n",
      "_________________________________________________________________\n",
      "dense_8 (Dense)              (None, 32)                1056      \n",
      "_________________________________________________________________\n",
      "dense_9 (Dense)              (None, 1)                 33        \n",
      "=================================================================\n",
      "Total params: 2,081\n",
      "Trainable params: 2,081\n",
      "Non-trainable params: 0\n",
      "_________________________________________________________________\n"
     ]
    }
   ],
   "source": [
    "# 构建模型\n",
    "model = keras.Sequential([\n",
    "    layers.Dense(32, activation='relu', input_shape=(30,)),\n",
    "    layers.Dense(32, activation='relu'),\n",
    "    layers.Dense(1, activation='sigmoid')\n",
    "])\n",
    "\n",
    "model.compile(optimizer=keras.optimizers.Adam(),\n",
    "             loss=keras.losses.binary_crossentropy,\n",
    "             metrics=['accuracy']\n",
    "             )\n",
    "model.summary()"
   ]
  },
  {
   "cell_type": "code",
   "execution_count": 19,
   "metadata": {},
   "outputs": [
    {
     "name": "stdout",
     "output_type": "stream",
     "text": [
      "Epoch 1/10\n",
      "398/398 [==============================] - 0s 48us/sample - loss: 0.2157 - accuracy: 0.9221\n",
      "Epoch 2/10\n",
      "398/398 [==============================] - 0s 30us/sample - loss: 0.2149 - accuracy: 0.9095\n",
      "Epoch 3/10\n",
      "398/398 [==============================] - 0s 51us/sample - loss: 0.2351 - accuracy: 0.9221\n",
      "Epoch 4/10\n",
      "398/398 [==============================] - 0s 36us/sample - loss: 0.2143 - accuracy: 0.9121\n",
      "Epoch 5/10\n",
      "398/398 [==============================] - 0s 80us/sample - loss: 0.2035 - accuracy: 0.9246\n",
      "Epoch 6/10\n",
      "398/398 [==============================] - 0s 59us/sample - loss: 0.2061 - accuracy: 0.9196\n",
      "Epoch 7/10\n",
      "398/398 [==============================] - 0s 44us/sample - loss: 0.2095 - accuracy: 0.9146\n",
      "Epoch 8/10\n",
      "398/398 [==============================] - 0s 51us/sample - loss: 0.2167 - accuracy: 0.9171\n",
      "Epoch 9/10\n",
      "398/398 [==============================] - 0s 27us/sample - loss: 0.1979 - accuracy: 0.9221\n",
      "Epoch 10/10\n",
      "398/398 [==============================] - 0s 47us/sample - loss: 0.2067 - accuracy: 0.9221\n"
     ]
    },
    {
     "data": {
      "text/plain": [
       "<tensorflow.python.keras.callbacks.History at 0x7fda01450668>"
      ]
     },
     "execution_count": 19,
     "metadata": {},
     "output_type": "execute_result"
    }
   ],
   "source": [
    "# 训练\n",
    "model.fit(x_train, y_train, batch_size=64, epochs=10, verbose=1)"
   ]
  },
  {
   "cell_type": "code",
   "execution_count": 21,
   "metadata": {},
   "outputs": [
    {
     "name": "stdout",
     "output_type": "stream",
     "text": [
      "171/171 [==============================] - 0s 55us/sample - loss: 0.1647 - accuracy: 0.9298\n"
     ]
    }
   ],
   "source": [
    "# 测试\n",
    "result = model.evaluate(x_test, y_test)"
   ]
  },
  {
   "cell_type": "code",
   "execution_count": 22,
   "metadata": {},
   "outputs": [
    {
     "name": "stdout",
     "output_type": "stream",
     "text": [
      "[0.16471639717792907, 0.9298246]\n"
     ]
    }
   ],
   "source": [
    "print(result)"
   ]
  },
  {
   "cell_type": "code",
   "execution_count": 23,
   "metadata": {},
   "outputs": [
    {
     "name": "stdout",
     "output_type": "stream",
     "text": [
      "['loss', 'accuracy']\n"
     ]
    }
   ],
   "source": [
    "print(model.metrics_names)"
   ]
  },
  {
   "cell_type": "code",
   "execution_count": null,
   "metadata": {},
   "outputs": [],
   "source": []
  }
 ],
 "metadata": {
  "kernelspec": {
   "display_name": "Python 3",
   "language": "python",
   "name": "python3"
  },
  "language_info": {
   "codemirror_mode": {
    "name": "ipython",
    "version": 3
   },
   "file_extension": ".py",
   "mimetype": "text/x-python",
   "name": "python",
   "nbconvert_exporter": "python",
   "pygments_lexer": "ipython3",
   "version": "3.6.7"
  }
 },
 "nbformat": 4,
 "nbformat_minor": 2
}
